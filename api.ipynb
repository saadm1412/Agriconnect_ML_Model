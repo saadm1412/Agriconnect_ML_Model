{
 "cells": [
  {
   "cell_type": "code",
   "execution_count": 2,
   "metadata": {},
   "outputs": [
    {
     "name": "stdout",
     "output_type": "stream",
     "text": [
      "Current Temperature: 28.03°C\n",
      "Current Humidity: 51%\n",
      "Rainfall in Last Hour: 0 mm\n"
     ]
    }
   ],
   "source": [
    "import requests\n",
    "\n",
    "# API Configuration\n",
    "API_KEY = \"94bca5bf398b52dcf35552f89e02a4d6\"  # Replace with your valid API key\n",
    "LAT = \"19.0760\"  # Latitude for Mumbai\n",
    "LON = \"72.8777\"  # Longitude for Mumbai\n",
    "\n",
    "# Construct API URL\n",
    "URL = f\"https://api.openweathermap.org/data/2.5/weather?lat={LAT}&lon={LON}&appid={API_KEY}&units=metric\"\n",
    "\n",
    "# Make the API request\n",
    "try:\n",
    "    response = requests.get(URL)\n",
    "    response.raise_for_status()  # Raise HTTPError for bad responses (e.g., 4xx, 5xx)\n",
    "    data = response.json()\n",
    "\n",
    "    # Extract and print data\n",
    "    main_data = data.get('main', {})\n",
    "    current_temp = main_data.get('temp', 'N/A')\n",
    "    current_humidity = main_data.get('humidity', 'N/A')\n",
    "\n",
    "    # Check for rainfall data\n",
    "    rain_data = data.get('rain', {}).get('1h', 0)  # Rainfall in the last hour\n",
    "\n",
    "    print(f\"Current Temperature: {current_temp}°C\")\n",
    "    print(f\"Current Humidity: {current_humidity}%\")\n",
    "    print(f\"Rainfall in Last Hour: {rain_data} mm\")\n",
    "\n",
    "except requests.exceptions.RequestException as e:\n",
    "    print(f\"Error fetching weather data: {e}\")\n",
    "except KeyError as e:\n",
    "    print(f\"Unexpected data format: Missing key {e}\")\n"
   ]
  }
 ],
 "metadata": {
  "kernelspec": {
   "display_name": "Python 3",
   "language": "python",
   "name": "python3"
  },
  "language_info": {
   "codemirror_mode": {
    "name": "ipython",
    "version": 3
   },
   "file_extension": ".py",
   "mimetype": "text/x-python",
   "name": "python",
   "nbconvert_exporter": "python",
   "pygments_lexer": "ipython3",
   "version": "3.11.5"
  }
 },
 "nbformat": 4,
 "nbformat_minor": 2
}
